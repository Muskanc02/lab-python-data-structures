{
 "cells": [
  {
   "cell_type": "markdown",
   "metadata": {
    "tags": []
   },
   "source": [
    "# Lab | Data Structures "
   ]
  },
  {
   "cell_type": "markdown",
   "metadata": {},
   "source": [
    "## Exercise: Managing Customer Orders\n",
    "\n",
    "As part of a business venture, you are starting an online store that sells various products. To ensure smooth operations, you need to develop a program that manages customer orders and inventory.\n",
    "\n",
    "Follow the steps below to complete the exercise:\n",
    "\n",
    "1. Define a list called `products` that contains the following items: \"t-shirt\", \"mug\", \"hat\", \"book\", \"keychain\".\n",
    "\n",
    "2. Create an empty dictionary called `inventory`.\n",
    "\n",
    "3. Ask the user to input the quantity of each product available in the inventory. Use the product names from the `products` list as keys in the `inventory` dictionary and assign the respective quantities as values.\n",
    "\n",
    "4. Create an empty set called `customer_orders`.\n",
    "\n",
    "5. Ask the user to input the name of three products that a customer wants to order (from those in the products list, meaning three products out of \"t-shirt\", \"mug\", \"hat\", \"book\" or \"keychain\". Add each product name to the `customer_orders` set.\n",
    "\n",
    "6. Print the products in the `customer_orders` set.\n",
    "\n",
    "7. Calculate the following order statistics:\n",
    "   - Total Products Ordered: The total number of products in the `customer_orders` set.\n",
    "   - Percentage of Products Ordered: The percentage of products ordered compared to the total available products.\n",
    "   \n",
    "   Store these statistics in a tuple called `order_status`.\n",
    "\n",
    "8. Print the order statistics using the following format:\n",
    "   ```\n",
    "   Order Statistics:\n",
    "   Total Products Ordered: <total_products_ordered>\n",
    "   Percentage of Products Ordered: <percentage_ordered>% \n",
    "   ```\n",
    "\n",
    "9. Update the inventory by subtracting 1 from the quantity of each product. Modify the `inventory` dictionary accordingly.\n",
    "\n",
    "10. Print the updated inventory, displaying the quantity of each product on separate lines.\n",
    "\n",
    "Solve the exercise by implementing the steps using the Python concepts of lists, dictionaries, sets, and basic input/output operations. "
   ]
  },
  {
   "cell_type": "code",
   "execution_count": 45,
   "metadata": {},
   "outputs": [],
   "source": [
    "#1 List of products containing objects \n",
    "products=[\"t-shirt\", \"mug\", \"hat\", \"book\", \"keychain\"]\n"
   ]
  },
  {
   "cell_type": "code",
   "execution_count": 17,
   "metadata": {},
   "outputs": [],
   "source": [
    "#2 create empty dictionary\n",
    "inventory={}"
   ]
  },
  {
   "cell_type": "code",
   "execution_count": 145,
   "metadata": {},
   "outputs": [
    {
     "name": "stdin",
     "output_type": "stream",
     "text": [
      "Enter the number of T-shirts 10\n",
      "Enter the number of Mugs 11\n",
      "Enter the number of Hats 20\n",
      "Enter the number of Books \n",
      "Enter the number of keychains 89\n"
     ]
    }
   ],
   "source": [
    "#3 capture the values entered by user\n",
    "value_tshirt=input(\"Enter the number of T-shirts\")\n",
    "value_mug=input(\"Enter the number of Mugs\")\n",
    "value_hat=input(\"Enter the number of Hats\")\n",
    "value_books=input(\"Enter the number of Books\")\n",
    "value_keychain=input(\"Enter the number of keychains\")"
   ]
  },
  {
   "cell_type": "code",
   "execution_count": 147,
   "metadata": {},
   "outputs": [],
   "source": [
    "inventory ={\n",
    "    \"t-shirt\":value_tshirt,\n",
    "    \"mug\":value_mug,\n",
    "    \"hat\":value_hat,\n",
    "    \"book\":value_books,\n",
    "    \"keychain\":value_keychain\n",
    "    \n",
    "}"
   ]
  },
  {
   "cell_type": "code",
   "execution_count": 33,
   "metadata": {},
   "outputs": [],
   "source": [
    "# 4 defined empty set\n",
    "customer_orders=set()"
   ]
  },
  {
   "cell_type": "code",
   "execution_count": 35,
   "metadata": {},
   "outputs": [
    {
     "name": "stdin",
     "output_type": "stream",
     "text": [
      "Enter the name of three products that you want to order t-shirt, mug, hat, book, keychain  mug\n",
      "Enter the name of three products that you want to order t-shirt, mug, hat, book, keychain  book\n",
      "Enter the name of three products that you want to order t-shirt, mug, hat, book, keychain  hat\n"
     ]
    },
    {
     "name": "stdout",
     "output_type": "stream",
     "text": [
      "{'book', 'mug', 'hat'}\n"
     ]
    }
   ],
   "source": [
    "#5 Add customer orders entered by customers to the customer order set.\n",
    "for i in range(1,4):\n",
    "    value=input(\"Enter the name of three products that you want to order t-shirt, mug, hat, book, keychain \")\n",
    "    customer_orders.add(str(value))\n"
   ]
  },
  {
   "cell_type": "code",
   "execution_count": 37,
   "metadata": {},
   "outputs": [
    {
     "name": "stdout",
     "output_type": "stream",
     "text": [
      "{'book', 'mug', 'hat'}\n"
     ]
    }
   ],
   "source": [
    "#6 print the customer order set\n",
    "print(customer_orders)"
   ]
  },
  {
   "cell_type": "code",
   "execution_count": 55,
   "metadata": {},
   "outputs": [
    {
     "name": "stdout",
     "output_type": "stream",
     "text": [
      "3\n",
      "5\n",
      "60.0\n",
      "(3, 5, 60.0)\n"
     ]
    }
   ],
   "source": [
    "#7 percentage of customer orders\n",
    "\n",
    "#total products ordered in Customer orders set\n",
    "totalCustOrders=len(customer_orders)\n",
    "print(totalCustOrders)\n",
    "\n",
    "#total no of products available\n",
    "totalProds=len(products)\n",
    "print(totalProds)\n",
    "\n",
    "percentage=(totalCustOrders/totalProds)*100\n",
    "print(percentage)\n",
    "\n",
    "order_status =(totalCustOrders ,   totalProds ,percentage)\n",
    "print(order_status)"
   ]
  },
  {
   "cell_type": "code",
   "execution_count": 70,
   "metadata": {},
   "outputs": [
    {
     "name": "stdout",
     "output_type": "stream",
     "text": [
      "Order statistics\n",
      "Total Products Ordered:3 \n",
      "Percentage of Products Ordered: 60.0% \n"
     ]
    }
   ],
   "source": [
    "# 8 print the order statistics\n",
    "print(\"Order statistics\")\n",
    "print(f\"\"\"Total Products Ordered:{totalCustOrders} \n",
    "Percentage of Products Ordered: {percentage}% \"\"\")"
   ]
  },
  {
   "cell_type": "code",
   "execution_count": 159,
   "metadata": {},
   "outputs": [
    {
     "name": "stdout",
     "output_type": "stream",
     "text": [
      "{'t-shirt': 8, 'mug': 9, 'hat': 18, 'book': '', 'keychain': 87}\n"
     ]
    }
   ],
   "source": [
    "#9 Update inventory with subtraction of value to 1\n",
    "for key, value in inventory.items():\n",
    "    if(value !='' and value !=0):\n",
    "        inventory[key]=int(value)-1\n",
    "print(inventory)\n",
    "        "
   ]
  },
  {
   "cell_type": "code",
   "execution_count": 161,
   "metadata": {},
   "outputs": [
    {
     "name": "stdout",
     "output_type": "stream",
     "text": [
      "Value for t-shirt :8\n",
      "Value for mug :9\n",
      "Value for hat :18\n",
      "Value for book :\n",
      "Value for keychain :87\n"
     ]
    }
   ],
   "source": [
    "#print inventory values\n",
    "for key, value in inventory.items():\n",
    "    print(\"Value for \" +key + \" :\" +str(value) )"
   ]
  },
  {
   "cell_type": "code",
   "execution_count": null,
   "metadata": {},
   "outputs": [],
   "source": []
  },
  {
   "cell_type": "code",
   "execution_count": null,
   "metadata": {},
   "outputs": [],
   "source": []
  }
 ],
 "metadata": {
  "kernelspec": {
   "display_name": "Python [conda env:workevt]",
   "language": "python",
   "name": "conda-env-workevt-py"
  },
  "language_info": {
   "codemirror_mode": {
    "name": "ipython",
    "version": 3
   },
   "file_extension": ".py",
   "mimetype": "text/x-python",
   "name": "python",
   "nbconvert_exporter": "python",
   "pygments_lexer": "ipython3",
   "version": "3.12.8"
  }
 },
 "nbformat": 4,
 "nbformat_minor": 4
}
